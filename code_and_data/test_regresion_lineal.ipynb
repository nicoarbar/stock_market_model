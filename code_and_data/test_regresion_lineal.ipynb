{
 "cells": [
  {
   "cell_type": "code",
   "execution_count": 2,
   "metadata": {},
   "outputs": [],
   "source": [
    "import pandas as pd\n",
    "\n",
    "#modelos de regresion lineal de sklearn y regresion de SVM\n",
    "from sklearn.linear_model import LinearRegression\n",
    "from sklearn.linear_model import Lasso\n",
    "from sklearn.linear_model import ElasticNet\n",
    "from sklearn.svm import SVR"
   ]
  },
  {
   "cell_type": "code",
   "execution_count": 14,
   "metadata": {},
   "outputs": [],
   "source": [
    "import pymongo\n",
    "import logging"
   ]
  },
  {
   "cell_type": "code",
   "execution_count": 109,
   "metadata": {},
   "outputs": [],
   "source": [
    "import os"
   ]
  },
  {
   "cell_type": "code",
   "execution_count": 3,
   "metadata": {},
   "outputs": [],
   "source": [
    "def read_stock_csv(ticker, file_dir):\n",
    "\tdf = pd.read_csv('{}/{}.csv'.format(file_dir, ticker))\n",
    "\tdf.set_index('Date', inplace = True)\n",
    "\treturn df "
   ]
  },
  {
   "cell_type": "code",
   "execution_count": 4,
   "metadata": {},
   "outputs": [],
   "source": [
    "def get_adj_close_df(ticker, data_dir):\n",
    "\tdf = read_stock_csv(ticker, data_dir)\n",
    "\tdf.drop(['Open','Close','Volume', 'High', 'Low'],1, inplace=True)\n",
    "\treturn df"
   ]
  },
  {
   "cell_type": "code",
   "execution_count": 5,
   "metadata": {},
   "outputs": [],
   "source": [
    "def modelo_fit_predict_and_score(modelo, x_train, y_train, x_test, y_test):\n",
    "\t#entrenamos con datos de entrenamiento\n",
    "\tmodelo.fit(x_train, y_train)\n",
    "\t#prediccion con datos de test\n",
    "\ty_pred = modelo.predict(x_test)\n",
    "\t#score\n",
    "\taccuracy = modelo.score(x_test, y_test)\n",
    "\treturn accuracy, y_pred"
   ]
  },
  {
   "cell_type": "code",
   "execution_count": 6,
   "metadata": {},
   "outputs": [],
   "source": [
    "def get_tickers_to_process(*tickers, ticker_col = False):\n",
    "\tif ticker_col:\n",
    "\t\tmongo_tickers_list = Mongo_stock_metadata('stock_metadata', 'tickers_list')\n",
    "\t\ttickers_list = mongo_tickers_list.read_by_key_from_mongodb('ticker_market', ticker_col)['ticker_list']\n",
    "\telse:\n",
    "\t\ttickers_list = list(tickers)\n",
    "\treturn tickers_list"
   ]
  },
  {
   "cell_type": "code",
   "execution_count": 9,
   "metadata": {},
   "outputs": [],
   "source": [
    "class Mongo_stock_metadata:\n",
    "\tdef __init__(self, bbdd, coleccion):\n",
    "\t\tself.client = pymongo.MongoClient('localhost', 27017)\n",
    "\t\tself.bbdd = bbdd\n",
    "\t\tself.logger = logger\n",
    "\t\tself.db = self.client[self.bbdd]\n",
    "\t\tself.coleccion = self.db[coleccion]\n",
    "\t\t\n",
    "\t#funcion para almacenar datos en formato diccionario en MongoDB\n",
    "\tdef insert_in_mongodb(self, dict_key_value):\n",
    "\t\t#se inserta\n",
    "\t\tlogger.info('Insertando datos en la coleccion de MongoDB')\n",
    "\t\tif type(dict_key_value) == 'list':\n",
    "\t\t\tself.coleccion.insert_many(dict_key_value)\n",
    "\t\telif len(dict_key_value) >= 1:\n",
    "\t\t\tself.coleccion.insert_one(dict_key_value)\n",
    "\t\telse:\n",
    "\t\t\tlogger.warning('El documento a insertar esta vacio')\n",
    "\t\n",
    "\tdef read_by_key_from_mongodb(self, key, value):\n",
    "\t\tlogger.info('Leyendo datos en la coleccion de MongoDB')\n",
    "\t\treturn self.coleccion.find_one({key:value})\n",
    "\n",
    "\tdef read_all_from_mongodb(self):\n",
    "\t\tlogger.info('Leyendo datos en la coleccion de MongoDB')\n",
    "\t\treturn self.coleccion.find()\n",
    "\n",
    "\tdef read_doc_keys_from_collection(self):\n",
    "\t\tlogger.info('Leyendo datos en la coleccion de MongoDB')\n",
    "\t\tlist_keys = []\n",
    "\t\tfor document in self.coleccion.find():\n",
    "\t\t\tlist_keys.append(document.keys())\n",
    "\t\treturn list_keys\n",
    "\n",
    "\tdef query_collections(self, my_query):\n",
    "\t\tlogger.info('Leyendo query en la coleccion de MongoDB')\n",
    "\t\treturn self.coleccion.find(my_query)\n",
    "\t\t \n",
    "\tdef count_elements_collection(self):\n",
    "\t\treturn self.coleccion.find().count()\n",
    "\n",
    "\tdef delete_collection(self):\n",
    "\t\treturn self.coleccion.drop()"
   ]
  },
  {
   "cell_type": "code",
   "execution_count": 15,
   "metadata": {},
   "outputs": [],
   "source": [
    "LOG_FORMAT = '%(asctime)s %(levelname)s - %(message)s'\n",
    "DATETIME_FORMAT = '%Y-%m-%d %H:%M:%S'\n",
    "logging.basicConfig(filename='scrapingstock.log', level=logging.INFO, format = LOG_FORMAT, filemode ='w', datefmt=DATETIME_FORMAT)\n",
    "logger = logging.getLogger()"
   ]
  },
  {
   "cell_type": "code",
   "execution_count": 16,
   "metadata": {},
   "outputs": [],
   "source": [
    "def logger_for_my_stock_app():\n",
    "\tlogging.basicConfig(filename='scrapingstock.log', level=logging.INFO, format = LOG_FORMAT, filemode ='w', datefmt=DATETIME_FORMAT)\n",
    "\tlogger = logging.getLogger()\n",
    "\treturn logger"
   ]
  },
  {
   "cell_type": "code",
   "execution_count": 23,
   "metadata": {},
   "outputs": [],
   "source": [
    "annomes_procesar_train = '200001_201812' #train\n",
    "annomes_procesar_test = '201901_201912' #test\n",
    "data_dir_train = 'historic_stock_data_{}'.format(annomes_procesar_train)\n",
    "data_dir_test = 'historic_stock_data_{}'.format(annomes_procesar_test)"
   ]
  },
  {
   "cell_type": "code",
   "execution_count": 17,
   "metadata": {},
   "outputs": [],
   "source": [
    "tickers_list = get_tickers_to_process(ticker_col='tickers_ibex35')"
   ]
  },
  {
   "cell_type": "code",
   "execution_count": 19,
   "metadata": {},
   "outputs": [],
   "source": [
    "tickers_list = ['IDR.MC']"
   ]
  },
  {
   "cell_type": "code",
   "execution_count": 20,
   "metadata": {},
   "outputs": [],
   "source": [
    "n_dias_pred = 15"
   ]
  },
  {
   "cell_type": "code",
   "execution_count": 112,
   "metadata": {},
   "outputs": [],
   "source": [
    "data_pred_dir = 'datos_y_funciones/predicted_data'"
   ]
  },
  {
   "cell_type": "code",
   "execution_count": 21,
   "metadata": {},
   "outputs": [],
   "source": [
    "ticker='IDR.MC'"
   ]
  },
  {
   "cell_type": "code",
   "execution_count": 79,
   "metadata": {},
   "outputs": [],
   "source": [
    "df_train = get_adj_close_df(ticker, data_dir_train)\n",
    "df_test  = get_adj_close_df(ticker, data_dir_test)"
   ]
  },
  {
   "cell_type": "code",
   "execution_count": 80,
   "metadata": {},
   "outputs": [],
   "source": [
    "df_train['prediccion_n_dias'] = df_train[['Adj Close']].shift(-n_dias_pred)\n",
    "df_test['prediccion_n_dias'] = df_test[['Adj Close']].shift(-n_dias_pred)"
   ]
  },
  {
   "cell_type": "code",
   "execution_count": 81,
   "metadata": {},
   "outputs": [],
   "source": [
    "\tdf_train.dropna(subset=['prediccion_n_dias'], inplace=True)\n",
    "\tdf_test.dropna(subset=['prediccion_n_dias'], inplace=True)"
   ]
  },
  {
   "cell_type": "code",
   "execution_count": 82,
   "metadata": {},
   "outputs": [],
   "source": [
    "\tx_train = df_train.drop(['prediccion_n_dias'], 1, inplace=False)\n",
    "\ty_train = df_train.drop(['Adj Close'], 1, inplace=False)\n",
    "\tx_test = df_test.drop(['prediccion_n_dias'], 1, inplace=False)\n",
    "\ty_test = df_test.drop(['Adj Close'], 1, inplace=False)"
   ]
  },
  {
   "cell_type": "code",
   "execution_count": 85,
   "metadata": {},
   "outputs": [],
   "source": [
    "\tx_train = x_train.to_numpy()\n",
    "\ty_train = y_train.to_numpy()\n",
    "\tx_test = x_test.to_numpy() \n",
    "\ty_test = y_test.to_numpy() \n"
   ]
  },
  {
   "cell_type": "code",
   "execution_count": 87,
   "metadata": {},
   "outputs": [],
   "source": [
    "regresion_lineal = LinearRegression()"
   ]
  },
  {
   "cell_type": "code",
   "execution_count": 88,
   "metadata": {},
   "outputs": [],
   "source": [
    "accuracy_regresion, y_pred_regresion = modelo_fit_predict_and_score(regresion_lineal, x_train, y_train, x_test, y_test)"
   ]
  },
  {
   "cell_type": "code",
   "execution_count": 89,
   "metadata": {},
   "outputs": [
    {
     "data": {
      "text/plain": [
       "0.5010365939534506"
      ]
     },
     "execution_count": 89,
     "metadata": {},
     "output_type": "execute_result"
    }
   ],
   "source": [
    "accuracy_regresion"
   ]
  },
  {
   "cell_type": "code",
   "execution_count": 93,
   "metadata": {},
   "outputs": [
    {
     "data": {
      "text/plain": [
       "240"
      ]
     },
     "execution_count": 93,
     "metadata": {},
     "output_type": "execute_result"
    }
   ],
   "source": [
    "len(y_pred_regresion)"
   ]
  },
  {
   "cell_type": "code",
   "execution_count": 94,
   "metadata": {},
   "outputs": [
    {
     "data": {
      "text/plain": [
       "Adj Close            240\n",
       "prediccion_n_dias    240\n",
       "dtype: int64"
      ]
     },
     "execution_count": 94,
     "metadata": {},
     "output_type": "execute_result"
    }
   ],
   "source": [
    "df_test.count()"
   ]
  },
  {
   "cell_type": "code",
   "execution_count": 95,
   "metadata": {},
   "outputs": [],
   "source": [
    "result = pd.concat([df_test, pd.DataFrame(y_pred_regresion)], axis=1)"
   ]
  },
  {
   "cell_type": "code",
   "execution_count": 101,
   "metadata": {},
   "outputs": [],
   "source": [
    "y_df = pd.DataFrame(y_pred_regresion)"
   ]
  },
  {
   "cell_type": "code",
   "execution_count": 103,
   "metadata": {},
   "outputs": [],
   "source": [
    "y_df_test = df_test.reset_index()"
   ]
  },
  {
   "cell_type": "code",
   "execution_count": 106,
   "metadata": {},
   "outputs": [],
   "source": [
    "result = y_df_test.join(y_df)"
   ]
  },
  {
   "cell_type": "code",
   "execution_count": 107,
   "metadata": {},
   "outputs": [
    {
     "data": {
      "text/html": [
       "<div>\n",
       "<style scoped>\n",
       "    .dataframe tbody tr th:only-of-type {\n",
       "        vertical-align: middle;\n",
       "    }\n",
       "\n",
       "    .dataframe tbody tr th {\n",
       "        vertical-align: top;\n",
       "    }\n",
       "\n",
       "    .dataframe thead th {\n",
       "        text-align: right;\n",
       "    }\n",
       "</style>\n",
       "<table border=\"1\" class=\"dataframe\">\n",
       "  <thead>\n",
       "    <tr style=\"text-align: right;\">\n",
       "      <th></th>\n",
       "      <th>Date</th>\n",
       "      <th>Adj Close</th>\n",
       "      <th>prediccion_n_dias</th>\n",
       "      <th>0</th>\n",
       "    </tr>\n",
       "  </thead>\n",
       "  <tbody>\n",
       "    <tr>\n",
       "      <th>0</th>\n",
       "      <td>2019-01-02</td>\n",
       "      <td>8.125</td>\n",
       "      <td>8.89</td>\n",
       "      <td>8.213349</td>\n",
       "    </tr>\n",
       "    <tr>\n",
       "      <th>1</th>\n",
       "      <td>2019-01-03</td>\n",
       "      <td>8.000</td>\n",
       "      <td>9.00</td>\n",
       "      <td>8.093514</td>\n",
       "    </tr>\n",
       "    <tr>\n",
       "      <th>2</th>\n",
       "      <td>2019-01-04</td>\n",
       "      <td>8.205</td>\n",
       "      <td>9.12</td>\n",
       "      <td>8.290044</td>\n",
       "    </tr>\n",
       "    <tr>\n",
       "      <th>3</th>\n",
       "      <td>2019-01-07</td>\n",
       "      <td>8.050</td>\n",
       "      <td>9.06</td>\n",
       "      <td>8.141448</td>\n",
       "    </tr>\n",
       "    <tr>\n",
       "      <th>4</th>\n",
       "      <td>2019-01-08</td>\n",
       "      <td>8.185</td>\n",
       "      <td>9.03</td>\n",
       "      <td>8.270871</td>\n",
       "    </tr>\n",
       "    <tr>\n",
       "      <th>...</th>\n",
       "      <td>...</td>\n",
       "      <td>...</td>\n",
       "      <td>...</td>\n",
       "      <td>...</td>\n",
       "    </tr>\n",
       "    <tr>\n",
       "      <th>235</th>\n",
       "      <td>2019-12-02</td>\n",
       "      <td>9.350</td>\n",
       "      <td>10.11</td>\n",
       "      <td>9.387733</td>\n",
       "    </tr>\n",
       "    <tr>\n",
       "      <th>236</th>\n",
       "      <td>2019-12-03</td>\n",
       "      <td>9.210</td>\n",
       "      <td>10.12</td>\n",
       "      <td>9.253517</td>\n",
       "    </tr>\n",
       "    <tr>\n",
       "      <th>237</th>\n",
       "      <td>2019-12-04</td>\n",
       "      <td>9.325</td>\n",
       "      <td>10.12</td>\n",
       "      <td>9.363765</td>\n",
       "    </tr>\n",
       "    <tr>\n",
       "      <th>238</th>\n",
       "      <td>2019-12-05</td>\n",
       "      <td>9.185</td>\n",
       "      <td>10.30</td>\n",
       "      <td>9.229551</td>\n",
       "    </tr>\n",
       "    <tr>\n",
       "      <th>239</th>\n",
       "      <td>2019-12-06</td>\n",
       "      <td>9.400</td>\n",
       "      <td>10.19</td>\n",
       "      <td>9.435666</td>\n",
       "    </tr>\n",
       "  </tbody>\n",
       "</table>\n",
       "<p>240 rows × 4 columns</p>\n",
       "</div>"
      ],
      "text/plain": [
       "           Date  Adj Close  prediccion_n_dias         0\n",
       "0    2019-01-02      8.125               8.89  8.213349\n",
       "1    2019-01-03      8.000               9.00  8.093514\n",
       "2    2019-01-04      8.205               9.12  8.290044\n",
       "3    2019-01-07      8.050               9.06  8.141448\n",
       "4    2019-01-08      8.185               9.03  8.270871\n",
       "..          ...        ...                ...       ...\n",
       "235  2019-12-02      9.350              10.11  9.387733\n",
       "236  2019-12-03      9.210              10.12  9.253517\n",
       "237  2019-12-04      9.325              10.12  9.363765\n",
       "238  2019-12-05      9.185              10.30  9.229551\n",
       "239  2019-12-06      9.400              10.19  9.435666\n",
       "\n",
       "[240 rows x 4 columns]"
      ]
     },
     "execution_count": 107,
     "metadata": {},
     "output_type": "execute_result"
    }
   ],
   "source": [
    "result"
   ]
  },
  {
   "cell_type": "code",
   "execution_count": 121,
   "metadata": {},
   "outputs": [],
   "source": [
    "result.set_index('Date', inplace=True)"
   ]
  },
  {
   "cell_type": "code",
   "execution_count": 122,
   "metadata": {},
   "outputs": [
    {
     "data": {
      "text/html": [
       "<div>\n",
       "<style scoped>\n",
       "    .dataframe tbody tr th:only-of-type {\n",
       "        vertical-align: middle;\n",
       "    }\n",
       "\n",
       "    .dataframe tbody tr th {\n",
       "        vertical-align: top;\n",
       "    }\n",
       "\n",
       "    .dataframe thead th {\n",
       "        text-align: right;\n",
       "    }\n",
       "</style>\n",
       "<table border=\"1\" class=\"dataframe\">\n",
       "  <thead>\n",
       "    <tr style=\"text-align: right;\">\n",
       "      <th></th>\n",
       "      <th>Adj Close</th>\n",
       "      <th>prediccion_n_dias</th>\n",
       "      <th>0</th>\n",
       "    </tr>\n",
       "    <tr>\n",
       "      <th>Date</th>\n",
       "      <th></th>\n",
       "      <th></th>\n",
       "      <th></th>\n",
       "    </tr>\n",
       "  </thead>\n",
       "  <tbody>\n",
       "    <tr>\n",
       "      <th>2019-01-02</th>\n",
       "      <td>8.125</td>\n",
       "      <td>8.89</td>\n",
       "      <td>8.213349</td>\n",
       "    </tr>\n",
       "    <tr>\n",
       "      <th>2019-01-03</th>\n",
       "      <td>8.000</td>\n",
       "      <td>9.00</td>\n",
       "      <td>8.093514</td>\n",
       "    </tr>\n",
       "    <tr>\n",
       "      <th>2019-01-04</th>\n",
       "      <td>8.205</td>\n",
       "      <td>9.12</td>\n",
       "      <td>8.290044</td>\n",
       "    </tr>\n",
       "    <tr>\n",
       "      <th>2019-01-07</th>\n",
       "      <td>8.050</td>\n",
       "      <td>9.06</td>\n",
       "      <td>8.141448</td>\n",
       "    </tr>\n",
       "    <tr>\n",
       "      <th>2019-01-08</th>\n",
       "      <td>8.185</td>\n",
       "      <td>9.03</td>\n",
       "      <td>8.270871</td>\n",
       "    </tr>\n",
       "    <tr>\n",
       "      <th>...</th>\n",
       "      <td>...</td>\n",
       "      <td>...</td>\n",
       "      <td>...</td>\n",
       "    </tr>\n",
       "    <tr>\n",
       "      <th>2019-12-02</th>\n",
       "      <td>9.350</td>\n",
       "      <td>10.11</td>\n",
       "      <td>9.387733</td>\n",
       "    </tr>\n",
       "    <tr>\n",
       "      <th>2019-12-03</th>\n",
       "      <td>9.210</td>\n",
       "      <td>10.12</td>\n",
       "      <td>9.253517</td>\n",
       "    </tr>\n",
       "    <tr>\n",
       "      <th>2019-12-04</th>\n",
       "      <td>9.325</td>\n",
       "      <td>10.12</td>\n",
       "      <td>9.363765</td>\n",
       "    </tr>\n",
       "    <tr>\n",
       "      <th>2019-12-05</th>\n",
       "      <td>9.185</td>\n",
       "      <td>10.30</td>\n",
       "      <td>9.229551</td>\n",
       "    </tr>\n",
       "    <tr>\n",
       "      <th>2019-12-06</th>\n",
       "      <td>9.400</td>\n",
       "      <td>10.19</td>\n",
       "      <td>9.435666</td>\n",
       "    </tr>\n",
       "  </tbody>\n",
       "</table>\n",
       "<p>240 rows × 3 columns</p>\n",
       "</div>"
      ],
      "text/plain": [
       "            Adj Close  prediccion_n_dias         0\n",
       "Date                                              \n",
       "2019-01-02      8.125               8.89  8.213349\n",
       "2019-01-03      8.000               9.00  8.093514\n",
       "2019-01-04      8.205               9.12  8.290044\n",
       "2019-01-07      8.050               9.06  8.141448\n",
       "2019-01-08      8.185               9.03  8.270871\n",
       "...               ...                ...       ...\n",
       "2019-12-02      9.350              10.11  9.387733\n",
       "2019-12-03      9.210              10.12  9.253517\n",
       "2019-12-04      9.325              10.12  9.363765\n",
       "2019-12-05      9.185              10.30  9.229551\n",
       "2019-12-06      9.400              10.19  9.435666\n",
       "\n",
       "[240 rows x 3 columns]"
      ]
     },
     "execution_count": 122,
     "metadata": {},
     "output_type": "execute_result"
    }
   ],
   "source": [
    "result"
   ]
  },
  {
   "cell_type": "code",
   "execution_count": 108,
   "metadata": {},
   "outputs": [
    {
     "data": {
      "text/plain": [
       "array([[ 8.21334933],\n",
       "       [ 8.09351429],\n",
       "       [ 8.29004368],\n",
       "       [ 8.14144849],\n",
       "       [ 8.27087055],\n",
       "       [ 8.64954879],\n",
       "       [ 8.6064081 ],\n",
       "       [ 8.55368039],\n",
       "       [ 8.37632505],\n",
       "       [ 8.39070559],\n",
       "       [ 8.57285444],\n",
       "       [ 8.64475528],\n",
       "       [ 8.84128466],\n",
       "       [ 8.86525222],\n",
       "       [ 8.82690504],\n",
       "       [ 8.94674008],\n",
       "       [ 9.05219458],\n",
       "       [ 9.16723611],\n",
       "       [ 9.1097158 ],\n",
       "       [ 9.08095474],\n",
       "       [ 9.02822794],\n",
       "       [ 9.03302054],\n",
       "       [ 8.95632619],\n",
       "       [ 9.08574825],\n",
       "       [ 9.26789801],\n",
       "       [ 9.22475733],\n",
       "       [ 9.17202962],\n",
       "       [ 9.07616122],\n",
       "       [ 9.18641015],\n",
       "       [ 9.20558328],\n",
       "       [ 9.34938588],\n",
       "       [ 9.51715419],\n",
       "       [ 9.56508839],\n",
       "       [ 9.57946893],\n",
       "       [ 9.58426244],\n",
       "       [ 9.66095679],\n",
       "       [ 9.53153473],\n",
       "       [ 9.819139  ],\n",
       "       [ 9.67533641],\n",
       "       [ 9.59384854],\n",
       "       [ 9.56029488],\n",
       "       [ 9.54591526],\n",
       "       [ 9.88145281],\n",
       "       [10.04922205],\n",
       "       [ 9.86227968],\n",
       "       [ 9.82872602],\n",
       "       [ 9.65616328],\n",
       "       [ 9.7232706 ],\n",
       "       [ 9.74244465],\n",
       "       [ 9.79996495],\n",
       "       [ 9.93897403],\n",
       "       [ 9.78079182],\n",
       "       [ 9.90542037],\n",
       "       [ 9.89103984],\n",
       "       [ 9.93418052],\n",
       "       [ 9.88145281],\n",
       "       [ 9.8766593 ],\n",
       "       [ 9.60822908],\n",
       "       [ 9.62740312],\n",
       "       [ 9.70409747],\n",
       "       [ 9.64178274],\n",
       "       [ 9.69451045],\n",
       "       [ 9.91021388],\n",
       "       [ 9.93897403],\n",
       "       [ 9.98211472],\n",
       "       [10.1259164 ],\n",
       "       [ 9.99170083],\n",
       "       [10.1259164 ],\n",
       "       [10.03004892],\n",
       "       [ 9.96294068],\n",
       "       [10.03963503],\n",
       "       [10.2313709 ],\n",
       "       [10.39434662],\n",
       "       [10.36558647],\n",
       "       [10.33682632],\n",
       "       [10.29847914],\n",
       "       [10.36558647],\n",
       "       [10.3272393 ],\n",
       "       [10.40393365],\n",
       "       [10.4326938 ],\n",
       "       [10.44228082],\n",
       "       [10.480628  ],\n",
       "       [10.49021502],\n",
       "       [10.34641334],\n",
       "       [10.30806617],\n",
       "       [10.1738506 ],\n",
       "       [ 9.99649434],\n",
       "       [10.05880907],\n",
       "       [10.03004892],\n",
       "       [10.01087487],\n",
       "       [ 9.45963389],\n",
       "       [ 9.63219572],\n",
       "       [ 9.60822908],\n",
       "       [ 9.67533641],\n",
       "       [ 9.84310564],\n",
       "       [ 9.34938588],\n",
       "       [ 9.49318755],\n",
       "       [ 9.75682427],\n",
       "       [ 9.62260961],\n",
       "       [ 9.58905595],\n",
       "       [ 9.50756809],\n",
       "       [ 9.58905595],\n",
       "       [ 9.53153473],\n",
       "       [ 9.69451045],\n",
       "       [ 9.4644274 ],\n",
       "       [ 9.33979885],\n",
       "       [ 9.39731916],\n",
       "       [ 9.54112175],\n",
       "       [ 9.52194771],\n",
       "       [ 9.75682427],\n",
       "       [ 9.819139  ],\n",
       "       [10.10674327],\n",
       "       [ 9.90542037],\n",
       "       [10.0204619 ],\n",
       "       [ 9.66095679],\n",
       "       [ 9.0090539 ],\n",
       "       [ 8.93715306],\n",
       "       [ 8.92756604],\n",
       "       [ 8.89880588],\n",
       "       [ 8.85087169],\n",
       "       [ 8.74541718],\n",
       "       [ 8.95632619],\n",
       "       [ 8.84128466],\n",
       "       [ 8.84128466],\n",
       "       [ 8.94674008],\n",
       "       [ 9.01384741],\n",
       "       [ 9.02343443],\n",
       "       [ 9.11930191],\n",
       "       [ 9.1145084 ],\n",
       "       [ 8.98508726],\n",
       "       [ 8.89401237],\n",
       "       [ 8.7597968 ],\n",
       "       [ 8.84128466],\n",
       "       [ 8.86045871],\n",
       "       [ 8.80293749],\n",
       "       [ 8.75021069],\n",
       "       [ 8.78376436],\n",
       "       [ 8.57285444],\n",
       "       [ 8.24690299],\n",
       "       [ 8.26607704],\n",
       "       [ 8.21334933],\n",
       "       [ 8.17500215],\n",
       "       [ 8.1989688 ],\n",
       "       [ 8.66872283],\n",
       "       [ 8.28045666],\n",
       "       [ 8.09351429],\n",
       "       [ 8.04078704],\n",
       "       [ 7.87301781],\n",
       "       [ 7.8921914 ],\n",
       "       [ 7.85863773],\n",
       "       [ 7.72442216],\n",
       "       [ 7.62376117],\n",
       "       [ 7.58062048],\n",
       "       [ 7.67169491],\n",
       "       [ 7.49913262],\n",
       "       [ 7.32656988],\n",
       "       [ 7.3361569 ],\n",
       "       [ 7.09648683],\n",
       "       [ 6.96227172],\n",
       "       [ 7.02937904],\n",
       "       [ 7.05334614],\n",
       "       [ 6.94309813],\n",
       "       [ 7.04855263],\n",
       "       [ 7.00541194],\n",
       "       [ 6.90954401],\n",
       "       [ 6.99103187],\n",
       "       [ 6.94309813],\n",
       "       [ 6.81846958],\n",
       "       [ 7.07251973],\n",
       "       [ 7.2882227 ],\n",
       "       [ 7.3121898 ],\n",
       "       [ 7.5374798 ],\n",
       "       [ 7.56623995],\n",
       "       [ 7.88260483],\n",
       "       [ 8.23252337],\n",
       "       [ 8.23731597],\n",
       "       [ 8.17020864],\n",
       "       [ 8.40029169],\n",
       "       [ 8.23731597],\n",
       "       [ 8.27566315],\n",
       "       [ 8.16541513],\n",
       "       [ 7.97847277],\n",
       "       [ 8.0983078 ],\n",
       "       [ 8.40029169],\n",
       "       [ 8.41467223],\n",
       "       [ 8.17020864],\n",
       "       [ 8.10789483],\n",
       "       [ 7.94491865],\n",
       "       [ 7.88739788],\n",
       "       [ 8.10789483],\n",
       "       [ 8.03599353],\n",
       "       [ 8.00243987],\n",
       "       [ 7.82029056],\n",
       "       [ 7.63814125],\n",
       "       [ 7.7148356 ],\n",
       "       [ 7.74838926],\n",
       "       [ 7.4895456 ],\n",
       "       [ 7.43202484],\n",
       "       [ 8.10310132],\n",
       "       [ 8.64475528],\n",
       "       [ 8.53930077],\n",
       "       [ 8.43384536],\n",
       "       [ 8.4530194 ],\n",
       "       [ 8.56806093],\n",
       "       [ 8.62078864],\n",
       "       [ 8.75500329],\n",
       "       [ 8.48657307],\n",
       "       [ 8.37632505],\n",
       "       [ 8.46739994],\n",
       "       [ 8.51533322],\n",
       "       [ 8.57764795],\n",
       "       [ 8.61120161],\n",
       "       [ 8.66392932],\n",
       "       [ 8.72624314],\n",
       "       [ 8.87963184],\n",
       "       [ 8.89880588],\n",
       "       [ 8.93715306],\n",
       "       [ 9.24393046],\n",
       "       [ 9.4644274 ],\n",
       "       [ 9.55070877],\n",
       "       [ 9.70889098],\n",
       "       [ 9.69451045],\n",
       "       [ 9.50277458],\n",
       "       [ 9.48360053],\n",
       "       [ 9.56029488],\n",
       "       [ 9.48360053],\n",
       "       [ 9.44525336],\n",
       "       [ 9.47401351],\n",
       "       [ 9.33979885],\n",
       "       [ 9.38773305],\n",
       "       [ 9.49798106],\n",
       "       [ 9.55070877],\n",
       "       [ 9.77599831],\n",
       "       [ 9.7712048 ],\n",
       "       [ 9.75682427],\n",
       "       [ 9.38773305],\n",
       "       [ 9.25351748],\n",
       "       [ 9.36376549],\n",
       "       [ 9.22955084],\n",
       "       [ 9.43566633]])"
      ]
     },
     "execution_count": 108,
     "metadata": {},
     "output_type": "execute_result"
    }
   ],
   "source": [
    "y_pred_regresion"
   ]
  },
  {
   "cell_type": "code",
   "execution_count": 123,
   "metadata": {},
   "outputs": [],
   "source": [
    "def join_test_df_with_pred_array_to_csv(y_pred, df_test, ticker, data_pred_dir, modelo):\n",
    "\t#convertimos el array predicho en dataframe y se nombra la columns\n",
    "\tpred_df = pd.DataFrame(y_pred, columns=['prediccion_modelo'])\n",
    "\t#se resetea el indice del dataframe de test para hace el join por indice\n",
    "\treset_index_df = df_test.reset_index()\n",
    "\t#se hace el join\n",
    "\tresultado_df = reset_index_df.join(pred_df)\n",
    "\t#se vuelve a poner la columna 'Date' como indice\n",
    "\tresultado_df.set_index('Date', inplace=True)\n",
    "\t#finalmente se guarda en una nueva carpeta en un fichero csv. Si no existee la carpeta se crea\n",
    "\tif not os.path.exists(data_pred_dir):\n",
    "\t\tos.makedirs(data_pred_dir)\n",
    "\tresultado_df.to_csv('{}/{}.csv'.format(data_pred_dir, ticker + '_' + modelo))"
   ]
  },
  {
   "cell_type": "code",
   "execution_count": 124,
   "metadata": {},
   "outputs": [],
   "source": [
    "join_test_df_with_pred_array_to_csv(y_pred_regresion, df_test, ticker, data_pred_dir, 'regresion_linal')"
   ]
  },
  {
   "cell_type": "code",
   "execution_count": 125,
   "metadata": {},
   "outputs": [
    {
     "data": {
      "text/plain": [
       "numpy.float64"
      ]
     },
     "execution_count": 125,
     "metadata": {},
     "output_type": "execute_result"
    }
   ],
   "source": [
    "type(accuracy_regresion)"
   ]
  },
  {
   "cell_type": "code",
   "execution_count": 126,
   "metadata": {},
   "outputs": [
    {
     "data": {
      "text/plain": [
       "0.5010365939534506"
      ]
     },
     "execution_count": 126,
     "metadata": {},
     "output_type": "execute_result"
    }
   ],
   "source": [
    "accuracy_regresion"
   ]
  },
  {
   "cell_type": "code",
   "execution_count": null,
   "metadata": {},
   "outputs": [],
   "source": []
  }
 ],
 "metadata": {
  "kernelspec": {
   "display_name": "Python 3",
   "language": "python",
   "name": "python3"
  },
  "language_info": {
   "codemirror_mode": {
    "name": "ipython",
    "version": 3
   },
   "file_extension": ".py",
   "mimetype": "text/x-python",
   "name": "python",
   "nbconvert_exporter": "python",
   "pygments_lexer": "ipython3",
   "version": "3.7.6"
  }
 },
 "nbformat": 4,
 "nbformat_minor": 4
}
